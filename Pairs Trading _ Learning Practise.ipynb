{
 "cells": [
  {
   "cell_type": "code",
   "execution_count": 48,
   "metadata": {
    "collapsed": false
   },
   "outputs": [],
   "source": [
    "import pandas as pd\n",
    "import numpy as np\n",
    "import datetime\n",
    "from pandas_datareader import data\n",
    "import statsmodels\n",
    "from statsmodels.tsa.stattools import coint\n",
    "import matplotlib.pyplot as plt\n",
    "%matplotlib inline"
   ]
  },
  {
   "cell_type": "markdown",
   "metadata": {},
   "source": [
    "Looking for Cointegrated Pairs of Alternative Energy Securities:\n",
    "I'm looking through a set of solar company stocks to see if any of them are cointegrated. We'll start by defining the list of securities we want to look through. Then we'll get the pricing data for each security for the year of 2014.\n",
    "\n",
    "Note:\n",
    "We include the market in our data. This is because the market drives the movement of so many securities that you often times might find two seemingingly cointegrated securities, but in reality they are not cointegrated and just both conintegrated with the market. This is known as a confounding variable and it is important to check for market involvement in any relationship you find."
   ]
  },
  {
   "cell_type": "code",
   "execution_count": 15,
   "metadata": {
    "collapsed": true
   },
   "outputs": [],
   "source": [
    "symbol_list = ['ABGB', 'ASTI', 'CSUN', 'DQ', 'FSLR','SPY']"
   ]
  },
  {
   "cell_type": "code",
   "execution_count": 31,
   "metadata": {
    "collapsed": false
   },
   "outputs": [],
   "source": [
    "prices_df = data.DataReader(symbol_list, 'yahoo', '2014-01-01', '2015-01-01')['Adj Close']"
   ]
  },
  {
   "cell_type": "code",
   "execution_count": 40,
   "metadata": {
    "collapsed": false
   },
   "outputs": [
    {
     "data": {
      "text/html": [
       "<div>\n",
       "<table border=\"1\" class=\"dataframe\">\n",
       "  <thead>\n",
       "    <tr style=\"text-align: right;\">\n",
       "      <th></th>\n",
       "      <th>ABGB</th>\n",
       "      <th>ASTI</th>\n",
       "      <th>CSUN</th>\n",
       "      <th>DQ</th>\n",
       "      <th>FSLR</th>\n",
       "      <th>SPY</th>\n",
       "    </tr>\n",
       "    <tr>\n",
       "      <th>Date</th>\n",
       "      <th></th>\n",
       "      <th></th>\n",
       "      <th></th>\n",
       "      <th></th>\n",
       "      <th></th>\n",
       "      <th></th>\n",
       "    </tr>\n",
       "  </thead>\n",
       "  <tbody>\n",
       "    <tr>\n",
       "      <th>2014-01-02</th>\n",
       "      <td>13.503233</td>\n",
       "      <td>7.3</td>\n",
       "      <td>7.09</td>\n",
       "      <td>38.000000</td>\n",
       "      <td>57.439999</td>\n",
       "      <td>173.980006</td>\n",
       "    </tr>\n",
       "    <tr>\n",
       "      <th>2014-01-03</th>\n",
       "      <td>13.812252</td>\n",
       "      <td>7.3</td>\n",
       "      <td>7.08</td>\n",
       "      <td>39.090000</td>\n",
       "      <td>56.740002</td>\n",
       "      <td>173.951473</td>\n",
       "    </tr>\n",
       "    <tr>\n",
       "      <th>2014-01-06</th>\n",
       "      <td>14.355378</td>\n",
       "      <td>7.1</td>\n",
       "      <td>7.00</td>\n",
       "      <td>40.049999</td>\n",
       "      <td>51.259998</td>\n",
       "      <td>173.447378</td>\n",
       "    </tr>\n",
       "    <tr>\n",
       "      <th>2014-01-07</th>\n",
       "      <td>14.636306</td>\n",
       "      <td>7.3</td>\n",
       "      <td>6.93</td>\n",
       "      <td>41.930000</td>\n",
       "      <td>52.490002</td>\n",
       "      <td>174.512634</td>\n",
       "    </tr>\n",
       "    <tr>\n",
       "      <th>2014-01-08</th>\n",
       "      <td>14.336650</td>\n",
       "      <td>7.1</td>\n",
       "      <td>7.17</td>\n",
       "      <td>42.380001</td>\n",
       "      <td>51.680000</td>\n",
       "      <td>174.550688</td>\n",
       "    </tr>\n",
       "    <tr>\n",
       "      <th>2014-01-09</th>\n",
       "      <td>14.608213</td>\n",
       "      <td>7.1</td>\n",
       "      <td>7.10</td>\n",
       "      <td>39.950001</td>\n",
       "      <td>52.110001</td>\n",
       "      <td>174.664818</td>\n",
       "    </tr>\n",
       "    <tr>\n",
       "      <th>2014-01-10</th>\n",
       "      <td>14.954690</td>\n",
       "      <td>7.3</td>\n",
       "      <td>7.04</td>\n",
       "      <td>39.700001</td>\n",
       "      <td>51.970001</td>\n",
       "      <td>175.140381</td>\n",
       "    </tr>\n",
       "    <tr>\n",
       "      <th>2014-01-13</th>\n",
       "      <td>15.151339</td>\n",
       "      <td>7.2</td>\n",
       "      <td>6.33</td>\n",
       "      <td>38.540001</td>\n",
       "      <td>49.860001</td>\n",
       "      <td>172.810125</td>\n",
       "    </tr>\n",
       "    <tr>\n",
       "      <th>2014-01-14</th>\n",
       "      <td>15.750650</td>\n",
       "      <td>7.3</td>\n",
       "      <td>6.50</td>\n",
       "      <td>40.200001</td>\n",
       "      <td>51.049999</td>\n",
       "      <td>174.693351</td>\n",
       "    </tr>\n",
       "    <tr>\n",
       "      <th>2014-01-15</th>\n",
       "      <td>16.087763</td>\n",
       "      <td>7.2</td>\n",
       "      <td>6.42</td>\n",
       "      <td>40.820000</td>\n",
       "      <td>51.990002</td>\n",
       "      <td>175.634971</td>\n",
       "    </tr>\n",
       "  </tbody>\n",
       "</table>\n",
       "</div>"
      ],
      "text/plain": [
       "                 ABGB  ASTI  CSUN         DQ       FSLR         SPY\n",
       "Date                                                               \n",
       "2014-01-02  13.503233   7.3  7.09  38.000000  57.439999  173.980006\n",
       "2014-01-03  13.812252   7.3  7.08  39.090000  56.740002  173.951473\n",
       "2014-01-06  14.355378   7.1  7.00  40.049999  51.259998  173.447378\n",
       "2014-01-07  14.636306   7.3  6.93  41.930000  52.490002  174.512634\n",
       "2014-01-08  14.336650   7.1  7.17  42.380001  51.680000  174.550688\n",
       "2014-01-09  14.608213   7.1  7.10  39.950001  52.110001  174.664818\n",
       "2014-01-10  14.954690   7.3  7.04  39.700001  51.970001  175.140381\n",
       "2014-01-13  15.151339   7.2  6.33  38.540001  49.860001  172.810125\n",
       "2014-01-14  15.750650   7.3  6.50  40.200001  51.049999  174.693351\n",
       "2014-01-15  16.087763   7.2  6.42  40.820000  51.990002  175.634971"
      ]
     },
     "execution_count": 40,
     "metadata": {},
     "output_type": "execute_result"
    }
   ],
   "source": [
    "prices_df.head(10)"
   ]
  },
  {
   "cell_type": "code",
   "execution_count": 35,
   "metadata": {
    "collapsed": false
   },
   "outputs": [
    {
     "data": {
      "text/plain": [
       "Index(['ABGB', 'ASTI', 'CSUN', 'DQ', 'FSLR', 'SPY'], dtype='object')"
      ]
     },
     "execution_count": 35,
     "metadata": {},
     "output_type": "execute_result"
    }
   ],
   "source": [
    "prices_df.columns"
   ]
  },
  {
   "cell_type": "code",
   "execution_count": 41,
   "metadata": {
    "collapsed": false
   },
   "outputs": [],
   "source": [
    "S1 = prices_df['ABGB']\n",
    "S2 = prices_df['FSLR']"
   ]
  },
  {
   "cell_type": "code",
   "execution_count": 46,
   "metadata": {
    "collapsed": false
   },
   "outputs": [
    {
     "data": {
      "text/plain": [
       "0.0043696772165590682"
      ]
     },
     "execution_count": 46,
     "metadata": {},
     "output_type": "execute_result"
    }
   ],
   "source": [
    "score, pvalue, _ = coint(S1, S2)\n",
    "pvalue"
   ]
  },
  {
   "cell_type": "code",
   "execution_count": 47,
   "metadata": {
    "collapsed": false
   },
   "outputs": [
    {
     "data": {
      "text/plain": [
       "Index(['ABGB', 'ASTI', 'CSUN', 'DQ', 'FSLR', 'SPY'], dtype='object')"
      ]
     },
     "execution_count": 47,
     "metadata": {},
     "output_type": "execute_result"
    }
   ],
   "source": [
    "prices_df.keys()"
   ]
  },
  {
   "cell_type": "code",
   "execution_count": 50,
   "metadata": {
    "collapsed": false
   },
   "outputs": [
    {
     "data": {
      "text/plain": [
       "<matplotlib.legend.Legend at 0x1065cbe48>"
      ]
     },
     "execution_count": 50,
     "metadata": {},
     "output_type": "execute_result"
    },
    {
     "data": {
      "image/png": "[encoded data removed]",
      "text/plain": [
       "<matplotlib.figure.Figure at 0x11df9b588>"
      ]
     },
     "metadata": {},
     "output_type": "display_data"
    }
   ],
   "source": [
    "ratios = S1/S2\n",
    "ratios.plot()\n",
    "plt.axhline(ratios.mean(), color = 'red')\n",
    "plt.legend([\"Price Ratio\"])"
   ]
  },
  {
   "cell_type": "code",
   "execution_count": 51,
   "metadata": {
    "collapsed": false
   },
   "outputs": [
    {
     "data": {
      "image/png": "[encoded data removed]",
      "text/plain": [
       "<matplotlib.figure.Figure at 0x11e546ef0>"
      ]
     },
     "metadata": {},
     "output_type": "display_data"
    }
   ],
   "source": [
    "def zscore(series):\n",
    "    return (series - series.mean()) / np.std(series)\n",
    "zscore(ratios).plot()\n",
    "plt.axhline(zscore(ratios).mean(), color='black')\n",
    "plt.axhline(1.0, color='red', linestyle='--')\n",
    "plt.axhline(-1.0, color='green', linestyle='--')\n",
    "plt.legend(['Ratio z-score', 'Mean', '+1', '-1']);"
   ]
  },
  {
   "cell_type": "markdown",
   "metadata": {},
   "source": [
    "#### Simple Strategy:\n",
    "Go \"Long\" the ratio whenever the z-score is below -1.0\n",
    "Go \"Short\" the ratio when the z-score is above 1.0\n",
    "Exit positions when the z-score approaches zero"
   ]
  },
  {
   "cell_type": "markdown",
   "metadata": {},
   "source": [
    "#### Trading using constantly updating statistics¶\n",
    "In general taking a statistic over your whole sample size can be bad. For example, if the market is moving up, and both securities with it, then your average price over the last 3 years may not be representative of today. For this reason traders often use statistics that rely on rolling windows of the most recent data."
   ]
  },
  {
   "cell_type": "code",
   "execution_count": null,
   "metadata": {
    "collapsed": true
   },
   "outputs": [],
   "source": []
  }
 ],
 "metadata": {
  "kernelspec": {
   "display_name": "Python 3",
   "language": "python",
   "name": "python3"
  },
  "language_info": {
   "codemirror_mode": {
    "name": "ipython",
    "version": 3
   },
   "file_extension": ".py",
   "mimetype": "text/x-python",
   "name": "python",
   "nbconvert_exporter": "python",
   "pygments_lexer": "ipython3",
   "version": "3.5.1"
  }
 },
 "nbformat": 4,
 "nbformat_minor": 0
}
